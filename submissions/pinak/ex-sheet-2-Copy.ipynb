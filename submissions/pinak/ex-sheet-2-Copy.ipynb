{
  "cells": [
    {
      "metadata": {
        "deletable": false,
        "editable": false,
        "run_control": {
          "frozen": true
        }
      },
      "cell_type": "markdown",
      "source": "# [acharya.ai](https://acharya.ai)"
    },
    {
      "metadata": {
        "deletable": false,
        "editable": false,
        "run_control": {
          "frozen": true
        }
      },
      "cell_type": "markdown",
      "source": "<div style=\"text-align: center; font-size: 1.5em;\">\nॐ असतो मा सद्गमय <br><br>\nतमसो मा ज्योतिर्गमय <br><br>\nमृत्योर्मा अमृतं गमय <br><br>\nॐ शान्तिः शान्तिः शान्तिः ॥\n</div>\n<hr>\n__Meaning__: Om, Keep me not in (the Phenomenal World of) Unreality, but make me go towards the Reality (of Eternal Self),\nKeep me not in (the Ignorant State of) Darkness, but make me go towards the Light (of Spiritual Knowledge),\nKeep me not in (the World of) Mortality, but make me go towards the World of Immortality (of Self-Realization),\nOm, Peace, Peace, Peace."
    },
    {
      "metadata": {
        "deletable": false,
        "editable": false,
        "run_control": {
          "frozen": true
        }
      },
      "cell_type": "markdown",
      "source": "## Exercises"
    },
    {
      "metadata": {
        "collapsed": true,
        "deletable": false,
        "editable": false,
        "run_control": {
          "frozen": true
        }
      },
      "cell_type": "markdown",
      "source": "__Exercise 2.1__ Consider that `s` is a `str` type variable that contains a string of length `r`. You want to extract a substring from the string `s`. If the position of the substring in `s` starts from the index location `m` and ends at the index location `n-1`, find the length of the substring."
    },
    {
      "metadata": {},
      "cell_type": "markdown",
      "source": "# Sol 2.1\n![title](image/Ex2_2.1.jpeg)"
    },
    {
      "metadata": {
        "trusted": true
      },
      "cell_type": "code",
      "source": "print(\"The length of the substring = (n-1)-m\")",
      "execution_count": 11,
      "outputs": [
        {
          "output_type": "stream",
          "text": "The length of the substring = (n-1)-m\n",
          "name": "stdout"
        }
      ]
    },
    {
      "metadata": {
        "deletable": false,
        "editable": false,
        "run_control": {
          "frozen": true
        }
      },
      "cell_type": "markdown",
      "source": "__Exercise 2.2__ A `str` type variable `s` contains a string of arbitrary length. Give the expression to return `r` characters starting at index `m`."
    },
    {
      "metadata": {
        "trusted": true
      },
      "cell_type": "code",
      "source": "# sol. 2.2\nprint(\"s[m:m+r]\")",
      "execution_count": 2,
      "outputs": [
        {
          "output_type": "stream",
          "text": "s[m:m+r]\n",
          "name": "stdout"
        }
      ]
    },
    {
      "metadata": {
        "deletable": false,
        "editable": false,
        "run_control": {
          "frozen": true
        },
        "slideshow": {
          "slide_type": "slide"
        }
      },
      "cell_type": "markdown",
      "source": "__Exercise 2.3__ For a string `s = \"AI 101, Scientific Python Programming\"`. Perform the following operations in the given order:\n\n__1.__ Split the string `s` using built-in string method `split([sep])`. In `split([sep])` method, the optional `sep` is the character or a substring where a given string should be separated. If no `sep` is provided, the default is `\" \"` (space character). In a given string where `sep` is appearing `n` times, the returned list will contain $n+1$ items. E.g., `\"Hello World!\".split()` will return a list with two items, `[\"Hello\", \"World!\"]` because the default `\" \"` appeared one time. <br>\n\nUse the multiple assignemts in a single line and assign the returned list items in the variable `code` and `course_name` respectively.<br> HINT: Use `\", \"` as `sep`. <br><br>\n__2.__ Using built-in string method `split([sep])`, split the string represented by variable `code` and save the returned items in new variables `code_name` and `code_num`. Then, using built-in string method `isdigit()`, check if the characters in `code_num` are all digits. <br><br>\n__3.__ Join the string variables `code_name`, `code_num` and `course_name` using built-in string method `join([list])`. In `join([list])` method, `list` is optional and contains strings that you want to join. Save the result in a new variable `course`. Ensure that the new variable `course` and the original string variable `s` have the same string. <br>HINT: You may recreate the intermediate variable `code` by joining `code_name` and `code_num`. Then in the second line you may create variable `course` by joining `code` and `course_name` using. Then compare if `course` and `s` are equal."
    },
    {
      "metadata": {
        "trusted": true
      },
      "cell_type": "code",
      "source": "# Sol 2.3.1\n\ns = \"AI 101, Scientific Python Programming\"\n\ncode, course_name = s.split(\", \")[0], s.split(\", \")[1]\n\n#for confirmation purpose wheather variables like \"code\" and \"course_name\" are properly asigned or not, let's check...\n\nprint(code,\"\\n\")\nprint(course_name)\n",
      "execution_count": 66,
      "outputs": [
        {
          "output_type": "stream",
          "text": "AI 101 \n\nScientific Python Programming\n",
          "name": "stdout"
        }
      ]
    },
    {
      "metadata": {
        "trusted": true
      },
      "cell_type": "code",
      "source": "# Sol. 2.3.2\n\ncode_name = code.split(\" \")[0]\ncode_num = code.split(\" \")[1]\n\n#for confirmation purpose wheather \"code_name\" and \"code_num\" are  properly working or not? Let's see... \n\nprint(code_name, \"\\n\")\nprint(code_num, \"\\n\")\n\n#To check if the characters in code_num are all digits or not\n\nprint(code_num.isdigit())\n\n",
      "execution_count": 53,
      "outputs": [
        {
          "output_type": "stream",
          "text": "AI \n\n101 \n\nTrue\n",
          "name": "stdout"
        }
      ]
    },
    {
      "metadata": {
        "trusted": true
      },
      "cell_type": "code",
      "source": "# Sol. 2.3.3\n\ncode = \" \".join([code_name, code_num])   #Here,two double quotation is separated by a space. That's why \"AI 101\" is coming\ncourse = \" \".join([code, course_name])\n\n\n# To check wheather \"code\" and \"course\" are  properly working or not? Let's see... \n\nprint(code, \"\\n\")\nprint(course,\"\\n\")\n\n# To check course and s are equal or not\n\nprint(s == course)\n",
      "execution_count": 65,
      "outputs": [
        {
          "output_type": "stream",
          "text": "AI 101 \n\nAI 101 Scientific Python Programming \n\nFalse\n",
          "name": "stdout"
        }
      ]
    },
    {
      "metadata": {
        "deletable": false,
        "editable": false,
        "run_control": {
          "frozen": true
        }
      },
      "cell_type": "markdown",
      "source": "__Exercise 2.4__ `any()` and `all()` are built-in function. `any()` tests whether any of the items in an iterable object equivalent to `True`. Similarly, `all()` tests if all the items in `t` are equivalent to `True`. Given a tuple `t = (5, 1, 0, 3, ())`, test if any of the items in it are equivalent to `True`. Also test if all items in it are equivalent to `True`."
    },
    {
      "metadata": {
        "trusted": true
      },
      "cell_type": "code",
      "source": "# Sol. 2.4\n\nt = (5, 1, 0, 3, ())\nprint(any(t))\nprint(all(t))",
      "execution_count": 68,
      "outputs": [
        {
          "output_type": "stream",
          "text": "True\nFalse\n",
          "name": "stdout"
        }
      ]
    },
    {
      "metadata": {
        "deletable": false,
        "editable": false,
        "run_control": {
          "frozen": true
        }
      },
      "cell_type": "markdown",
      "source": "__Exercise 2.5__ Given a tuple with four items `(\"Hyderabad\", 650, 211, 6809970)`, using tuple packing create a tuple variable `city_record`. Now, how can you unpack (popularly referred as tuple unpacking) the tuple `city_record` in three variables `city`, `area`, `year_population`? Find the type of the variable `year_population`."
    },
    {
      "metadata": {
        "trusted": true
      },
      "cell_type": "code",
      "source": "# Sol. 2.5\n\ncity_record = (\"Hyderabad\", 650, 211, 6809970)\n\ncity, *area, year_population = (\"Hyderabad\", 650, 211, 6809970) #Here, in case of \"area\" multi items are there\n\n#To check wheather the variables are properly packed or not\nprint(city)\nprint(area)\nprint(year_population)\n\nprint(\"Type of variable year_population is: \",type(year_population))\n",
      "execution_count": 79,
      "outputs": [
        {
          "output_type": "stream",
          "text": "Hyderabad\n[650, 211]\n6809970\nType of variable year_population is:  <class 'int'>\n",
          "name": "stdout"
        }
      ]
    },
    {
      "metadata": {
        "deletable": false,
        "editable": false,
        "run_control": {
          "frozen": true
        }
      },
      "cell_type": "markdown",
      "source": "__Exercise 2.6__ Run the code and give your reasoning, why the memory address of `x` in step 2 and step 4 are different but in step 6 and step 8 are same?\n```python\nx = (2, 4, 8) # step 1\nprint(id(x))  # step 2\nx *= 2        # step 3\nprint(id(x))  # step 4\n\nx = [2, 4, 8] # step 5\nprint(id(x))  # step 6\nx *= 2        # step 7\nprint(id(x))  # step 8\n```"
    },
    {
      "metadata": {
        "trusted": true
      },
      "cell_type": "code",
      "source": "# Sol. 2.6\nx = (2, 4, 8) # step 1\nprint(id(x))  # step 2\nx *= 2        # step 3\nprint(id(x))  # step 4\n\n#Here, memory address of step 2 and step 4 are different because in both the case items that x conain are different i.e., in step2 x\n#contains (2, 4, 8) but in step 4, x contains (2, 4, 8, 2, 4, 8) items. As tuple is immutable, so it is treated as different object.\n# That's why in both the case, return of id is different.\n\nx = [2, 4, 8] # step 5\nprint(id(x))  # step 6\n\nx *= 2        # step 7\nprint(id(x))  # step 8\n\n#Here, memory address of step 6 and step 8 are same because of list is mutable(means changeable), that means we can add, delete \n#and modify the items that it conains. In step no 8, items are just added to \"x\". So PVM treats the x as a same variable in both step \n#no 6 and step no 8\n\n\n",
      "execution_count": 85,
      "outputs": [
        {
          "output_type": "stream",
          "text": "140654819887000\n140654819760264\n140654819025672\n140654819025672\n",
          "name": "stdout"
        }
      ]
    }
  ],
  "metadata": {
    "kernelspec": {
      "name": "python36",
      "display_name": "Python 3.6",
      "language": "python"
    },
    "language_info": {
      "mimetype": "text/x-python",
      "nbconvert_exporter": "python",
      "name": "python",
      "pygments_lexer": "ipython3",
      "version": "3.6.6",
      "file_extension": ".py",
      "codemirror_mode": {
        "version": 3,
        "name": "ipython"
      }
    }
  },
  "nbformat": 4,
  "nbformat_minor": 2
}