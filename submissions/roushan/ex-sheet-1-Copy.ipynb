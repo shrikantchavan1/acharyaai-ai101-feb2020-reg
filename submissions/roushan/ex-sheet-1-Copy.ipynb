{
  "cells": [
    {
      "metadata": {
        "editable": false,
        "deletable": false,
        "run_control": {
          "frozen": true
        }
      },
      "cell_type": "markdown",
      "source": "# [acharya.ai](https://acharya.ai)\n\n### Exercise Sheet 1 — Numeric Data Types and `math` module"
    },
    {
      "metadata": {
        "trusted": true,
        "editable": false,
        "deletable": false,
        "run_control": {
          "frozen": true
        }
      },
      "cell_type": "markdown",
      "source": "__Ex1.1 __ In the book Brāhmasphuṭasiddhānta ([śloka 12.21](https://sa.wikisource.org/wiki/%E0%A4%AC%E0%A5%8D%E0%A4%B0%E0%A4%BE%E0%A4%B9%E0%A5%8D%E0%A4%AE%E0%A4%B8%E0%A5%8D%E0%A4%AB%E0%A5%81%E0%A4%9F%E0%A4%B8%E0%A4%BF%E0%A4%A6%E0%A5%8D%E0%A4%A7%E0%A4%BE%E0%A4%A8%E0%A5%8D%E0%A4%A4%E0%A4%83#%E0%A4%95%E0%A5%8D%E0%A4%B7%E0%A5%87%E0%A4%A4%E0%A5%8D%E0%A4%B0-%E0%A4%B5%E0%A5%8D%E0%A4%AF%E0%A4%B5%E0%A4%B9%E0%A4%BE%E0%A4%B0%E0%A4%B8%E0%A5%8D)), the ancient mathematician Brahmagupta gave the formula for calculating the area of a _[cyclic quadrilateral](https://upload.wikimedia.org/wikipedia/commons/4/4c/ចតុកោណចារឹកក្នុងរង្វង់.png)_ː $Area = \\sqrt{(s - a)(s - b)(s - c)(s - d)} $, where $a, b, c, d$ are the lengths of the sides and $s$ is the semiperimeter (i.e., half perimeter) defined as: $s = \\frac{a + b + c + d}{2}$. <br /><br />\n\nUsing the above formula, calculate the area of a cyclic quadrilateral whos four sides are: $a = 3.6cm, b = 7.7cm, c = 7.5cm, d = 4cm$. <br />\nHINT: Use the `math` module."
    },
    {
      "metadata": {
        "trusted": true
      },
      "cell_type": "code",
      "source": "## solution 1.1",
      "execution_count": null,
      "outputs": []
    },
    {
      "metadata": {
        "trusted": true
      },
      "cell_type": "code",
      "source": "import math\n\na = 3.6\nb = 7.7\nc = 7.5\nd = 4\n\nsemi_perimeter = (a+b+c+d)/2\nArea = (s-a)*(s-b)*(s-c)*(s-d)\n\nprint(\"Semi-perimeter of Quadrilateral: \",semi_perimeter,\"c.m.\")\nprint(\"Area of quadrilateral: \",math.sqrt(Area),\"sq c.m.\")\n",
      "execution_count": 8,
      "outputs": [
        {
          "output_type": "stream",
          "text": "Semi-perimeter of Quadrilateral:  11.4 c.m.\nArea of quadrilateral:  28.860000000000003 sq c.m.\n",
          "name": "stdout"
        }
      ]
    },
    {
      "metadata": {
        "editable": false,
        "deletable": false,
        "run_control": {
          "frozen": true
        }
      },
      "cell_type": "markdown",
      "source": "__Ex1.2__ Compute the following expressions and keep the output visible when submitting your notebook. Before computing each of the given expression, write at least 1 or 2 sentences explaining how the expression will be evaluated in terms of precedence of operators and the expected result of the mathematical operation.<br /> <br />\n   1. `3 // 5 - 1`\n   2. `(3 + 4) % 3`\n   3. `2 + 8 % 3`\n   4. `4 * 3 // 6`\n   5. `5 * (4 // 7)`\n   6. `2 * 5 ** 2`\n   7. `4 ** 3 * 2`"
    },
    {
      "metadata": {
        "trusted": true
      },
      "cell_type": "code",
      "source": "## solution 1.2",
      "execution_count": null,
      "outputs": []
    },
    {
      "metadata": {
        "trusted": true
      },
      "cell_type": "code",
      "source": "## 1). 1st operate // and then -\nprint(3 // 5 - 1)",
      "execution_count": 10,
      "outputs": [
        {
          "output_type": "stream",
          "text": "-1\n",
          "name": "stdout"
        }
      ]
    },
    {
      "metadata": {
        "trusted": true
      },
      "cell_type": "code",
      "source": "## 2). 1st operate () and then %\nprint((3 + 4) % 3)",
      "execution_count": 27,
      "outputs": [
        {
          "output_type": "stream",
          "text": "1\n",
          "name": "stdout"
        }
      ]
    },
    {
      "metadata": {
        "trusted": true
      },
      "cell_type": "code",
      "source": "## 3). 1st operate % and then +\nprint(2 + 8 % 3)",
      "execution_count": 20,
      "outputs": [
        {
          "output_type": "stream",
          "text": "4\n",
          "name": "stdout"
        }
      ]
    },
    {
      "metadata": {
        "trusted": true
      },
      "cell_type": "code",
      "source": "## 4). 1st operate * and then //\nprint(4 * 3 // 6)",
      "execution_count": 22,
      "outputs": [
        {
          "output_type": "stream",
          "text": "2\n",
          "name": "stdout"
        }
      ]
    },
    {
      "metadata": {
        "trusted": true
      },
      "cell_type": "code",
      "source": "## 5). 1st operate // and then *\nprint(5 * (4 // 7))",
      "execution_count": 23,
      "outputs": [
        {
          "output_type": "stream",
          "text": "0\n",
          "name": "stdout"
        }
      ]
    },
    {
      "metadata": {
        "trusted": true
      },
      "cell_type": "code",
      "source": "## 6). 1st operate ** and then *\nprint(2 * 5 ** 2)",
      "execution_count": 24,
      "outputs": [
        {
          "output_type": "stream",
          "text": "50\n",
          "name": "stdout"
        }
      ]
    },
    {
      "metadata": {
        "trusted": true
      },
      "cell_type": "code",
      "source": "## 1). 1st operate ** and then *\nprint(4 ** 3 * 2)",
      "execution_count": 25,
      "outputs": [
        {
          "output_type": "stream",
          "text": "128\n",
          "name": "stdout"
        }
      ]
    }
  ],
  "metadata": {
    "kernelspec": {
      "name": "python36",
      "display_name": "Python 3.6",
      "language": "python"
    },
    "language_info": {
      "mimetype": "text/x-python",
      "nbconvert_exporter": "python",
      "name": "python",
      "pygments_lexer": "ipython3",
      "version": "3.6.6",
      "file_extension": ".py",
      "codemirror_mode": {
        "version": 3,
        "name": "ipython"
      }
    }
  },
  "nbformat": 4,
  "nbformat_minor": 1
}