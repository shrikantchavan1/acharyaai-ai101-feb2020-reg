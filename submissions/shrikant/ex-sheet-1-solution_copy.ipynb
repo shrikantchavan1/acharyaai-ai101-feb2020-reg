{
  "cells": [
    {
      "metadata": {
        "editable": false,
        "deletable": false,
        "run_control": {
          "frozen": true
        }
      },
      "cell_type": "markdown",
      "source": "# [acharya.ai](https://acharya.ai)\n\n### Exercise Sheet 1 — Numeric Data Types and `math` module"
    },
    {
      "metadata": {
        "trusted": true,
        "editable": false,
        "deletable": false,
        "run_control": {
          "frozen": true
        }
      },
      "cell_type": "markdown",
      "source": "__Ex1.1 __ In the book Brāhmasphuṭasiddhānta ([śloka 12.21](https://sa.wikisource.org/wiki/%E0%A4%AC%E0%A5%8D%E0%A4%B0%E0%A4%BE%E0%A4%B9%E0%A5%8D%E0%A4%AE%E0%A4%B8%E0%A5%8D%E0%A4%AB%E0%A5%81%E0%A4%9F%E0%A4%B8%E0%A4%BF%E0%A4%A6%E0%A5%8D%E0%A4%A7%E0%A4%BE%E0%A4%A8%E0%A5%8D%E0%A4%A4%E0%A4%83#%E0%A4%95%E0%A5%8D%E0%A4%B7%E0%A5%87%E0%A4%A4%E0%A5%8D%E0%A4%B0-%E0%A4%B5%E0%A5%8D%E0%A4%AF%E0%A4%B5%E0%A4%B9%E0%A4%BE%E0%A4%B0%E0%A4%B8%E0%A5%8D)), the ancient mathematician Brahmagupta gave the formula for calculating the area of a _[cyclic quadrilateral](https://upload.wikimedia.org/wikipedia/commons/4/4c/ចតុកោណចារឹកក្នុងរង្វង់.png)_ː $Area = \\sqrt{(s - a)(s - b)(s - c)(s - d)} $, where $a, b, c, d$ are the lengths of the sides and $s$ is the semiperimeter (i.e., half perimeter) defined as: $s = \\frac{a + b + c + d}{2}$. <br /><br />\n\nUsing the above formula, calculate the area of a cyclic quadrilateral whos four sides are: $a = 3.6cm, b = 7.7cm, c = 7.5cm, d = 4cm$. <br />\nHINT: Use the `math` module."
    },
    {
      "metadata": {
        "trusted": true
      },
      "cell_type": "code",
      "source": "# solution 1.1\n\nimport math\na = 3.6\nb = 7.7\nc = 7.5\nd = 4\ns = (a+b+c+d/2)\nprint(s)\nArea = math.sqrt((s-a)*(s-b)*(s-c)*(s-d))\nprint(\"area = \",Area)\n",
      "execution_count": 4,
      "outputs": [
        {
          "output_type": "stream",
          "text": "20.8\narea =  224.3780310101682\n",
          "name": "stdout"
        }
      ]
    },
    {
      "metadata": {
        "editable": false,
        "deletable": false,
        "run_control": {
          "frozen": true
        }
      },
      "cell_type": "markdown",
      "source": "__Ex1.2__ Compute the following expressions and keep the output visible when submitting your notebook. Before computing each of the given expression, write at least 1 or 2 sentences explaining how the expression will be evaluated in terms of precedence of operators and the expected result of the mathematical operation.<br /> <br />\n   1. `3 // 5 - 1`\n   2. `(3 + 4) % 3`\n   3. `2 + 8 % 3`\n   4. `4 * 3 // 6`\n   5. `5 * (4 // 7)`\n   6. `2 * 5 ** 2`\n   7. `4 ** 3 * 2`"
    },
    {
      "metadata": {
        "trusted": true
      },
      "cell_type": "code",
      "source": "# solution 1.2.1\n\n3 // 5 - 1\n# Discrption as per basic mathematical rule first we will do the opration of floor division (3 // 5) = 0 and\n# then we will perform subtraction (0 - 1) so answer is -1.",
      "execution_count": 5,
      "outputs": [
        {
          "output_type": "execute_result",
          "execution_count": 5,
          "data": {
            "text/plain": "-1"
          },
          "metadata": {}
        }
      ]
    },
    {
      "metadata": {
        "trusted": true
      },
      "cell_type": "code",
      "source": "# solution 1.2.2\n\n(3 + 4) % 3\n# In the above example it will perform the action on bracket and do addition (3 + 4) = 7 and then it will do \n# the moduler of (7 % 3) so answer is 1.",
      "execution_count": 7,
      "outputs": [
        {
          "output_type": "execute_result",
          "execution_count": 7,
          "data": {
            "text/plain": "1"
          },
          "metadata": {}
        }
      ]
    },
    {
      "metadata": {
        "trusted": true
      },
      "cell_type": "code",
      "source": "# solution 1.2.3\n\n2 + 8 % 3\n# In the above example we perform the action on modular first (8 % 3) = 2 and then it will do the addition (2 + 2) so answer is 4.",
      "execution_count": 8,
      "outputs": [
        {
          "output_type": "execute_result",
          "execution_count": 8,
          "data": {
            "text/plain": "4"
          },
          "metadata": {}
        }
      ]
    },
    {
      "metadata": {
        "trusted": true
      },
      "cell_type": "code",
      "source": "# solution 1.2.4\n\n4 * 3 // 6\n# In the above example we perform multiply opration first (4 * 3) = 12 and then it will do the floor division (12 // 6) so answer is 2.",
      "execution_count": 11,
      "outputs": [
        {
          "output_type": "execute_result",
          "execution_count": 11,
          "data": {
            "text/plain": "2"
          },
          "metadata": {}
        }
      ]
    },
    {
      "metadata": {
        "trusted": true
      },
      "cell_type": "code",
      "source": "# solution 1.2.5\n\n5 * (4 // 7)\n# In the above example we perform floor division action first (4 // 7) = 0 and then it will do the multiply  (5 * 0) so answer is 0.",
      "execution_count": 10,
      "outputs": [
        {
          "output_type": "execute_result",
          "execution_count": 10,
          "data": {
            "text/plain": "0"
          },
          "metadata": {}
        }
      ]
    },
    {
      "metadata": {
        "trusted": true
      },
      "cell_type": "code",
      "source": "# solution 1.2.6\n\n2 * 5 ** 2\n# In the above example we perform the exponential action first (5 ** 2) = 25 and then it will do the multiply (25 * 2) so answer is 50.",
      "execution_count": 12,
      "outputs": [
        {
          "output_type": "execute_result",
          "execution_count": 12,
          "data": {
            "text/plain": "50"
          },
          "metadata": {}
        }
      ]
    },
    {
      "metadata": {
        "trusted": true
      },
      "cell_type": "code",
      "source": "# solution 1.2.7\n\n4 ** 3 * 2\n# In the above example we perform the exponential action first (4 ** 3) = 64 and then it will do the multiply (64 * 2) so answer is 128.\n# In all the above examples we follow the BODMOS Rule.",
      "execution_count": 13,
      "outputs": [
        {
          "output_type": "execute_result",
          "execution_count": 13,
          "data": {
            "text/plain": "128"
          },
          "metadata": {}
        }
      ]
    }
  ],
  "metadata": {
    "kernelspec": {
      "name": "python36",
      "display_name": "Python 3.6",
      "language": "python"
    },
    "language_info": {
      "mimetype": "text/x-python",
      "nbconvert_exporter": "python",
      "name": "python",
      "pygments_lexer": "ipython3",
      "version": "3.6.6",
      "file_extension": ".py",
      "codemirror_mode": {
        "version": 3,
        "name": "ipython"
      }
    }
  },
  "nbformat": 4,
  "nbformat_minor": 1
}