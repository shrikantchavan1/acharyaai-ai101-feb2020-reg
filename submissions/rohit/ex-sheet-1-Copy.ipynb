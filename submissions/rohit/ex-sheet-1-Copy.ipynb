{
  "cells": [
    {
      "metadata": {
        "editable": false,
        "deletable": false,
        "run_control": {
          "frozen": true
        }
      },
      "cell_type": "markdown",
      "source": "# [acharya.ai](https://acharya.ai)\n\n### Exercise Sheet 1 — Numeric Data Types and `math` module"
    },
    {
      "metadata": {
        "trusted": true,
        "editable": false,
        "deletable": false,
        "run_control": {
          "frozen": true
        }
      },
      "cell_type": "markdown",
      "source": "__Ex1.1 __ In the book Brāhmasphuṭasiddhānta ([śloka 12.21](https://sa.wikisource.org/wiki/%E0%A4%AC%E0%A5%8D%E0%A4%B0%E0%A4%BE%E0%A4%B9%E0%A5%8D%E0%A4%AE%E0%A4%B8%E0%A5%8D%E0%A4%AB%E0%A5%81%E0%A4%9F%E0%A4%B8%E0%A4%BF%E0%A4%A6%E0%A5%8D%E0%A4%A7%E0%A4%BE%E0%A4%A8%E0%A5%8D%E0%A4%A4%E0%A4%83#%E0%A4%95%E0%A5%8D%E0%A4%B7%E0%A5%87%E0%A4%A4%E0%A5%8D%E0%A4%B0-%E0%A4%B5%E0%A5%8D%E0%A4%AF%E0%A4%B5%E0%A4%B9%E0%A4%BE%E0%A4%B0%E0%A4%B8%E0%A5%8D)), the ancient mathematician Brahmagupta gave the formula for calculating the area of a _[cyclic quadrilateral](https://upload.wikimedia.org/wikipedia/commons/4/4c/ចតុកោណចារឹកក្នុងរង្វង់.png)_ː $Area = \\sqrt{(s - a)(s - b)(s - c)(s - d)} $, where $a, b, c, d$ are the lengths of the sides and $s$ is the semiperimeter (i.e., half perimeter) defined as: $s = \\frac{a + b + c + d}{2}$. <br /><br />\n\nUsing the above formula, calculate the area of a cyclic quadrilateral whos four sides are: $a = 3.6cm, b = 7.7cm, c = 7.5cm, d = 4cm$. <br />\nHINT: Use the `math` module."
    },
    {
      "metadata": {
        "trusted": true
      },
      "cell_type": "code",
      "source": "import math as m\na = 3.6\nb = 7.7\nc = 7.5\nd = 4\ns = (a + b + c + d) / 2\nprint(s)\narea=m.sqrt((s - a) * (s - b) * (s - c) * (s - d))\nprint( \"Area=\",area)",
      "execution_count": 3,
      "outputs": [
        {
          "output_type": "stream",
          "text": "11.4\nArea= 28.860000000000003\n",
          "name": "stdout"
        }
      ]
    },
    {
      "metadata": {
        "editable": false,
        "deletable": false,
        "run_control": {
          "frozen": true
        }
      },
      "cell_type": "markdown",
      "source": "__Ex1.2__ Compute the following expressions and keep the output visible when submitting your notebook. Before computing each of the given expression, write at least 1 or 2 sentences explaining how the expression will be evaluated in terms of precedence of operators and the expected result of the mathematical operation.<br /> <br />\n   1. `3 // 5 - 1`\n   2. `(3 + 4) % 3`\n   3. `2 + 8 % 3`\n   4. `4 * 3 // 6`\n   5. `5 * (4 // 7)`\n   6. `2 * 5 ** 2`\n   7. `4 ** 3 * 2`"
    },
    {
      "metadata": {
        "trusted": true
      },
      "cell_type": "code",
      "source": "# Q1 sol\nprint(3 // 5 - 1)#First floor division well be perform according to priority \"BODMAS\" rules in math .Floor division store integer quotient\n# Q2 sol\nprint((3 + 4) %3 )#First addition performs because of first priority goes to bracket then modulus,modulus stored only remainder\n# Q3 sol\nprint(2 + 8 % 3)# first (8%3 ) modulo perform then addtion ( modulo stored remainder)\n# Q4 sol\nprint(4 * 3 // 6)#multiplication and floor division having same priority but in this case first priority starting from left side to right\n# Q5 sol\nprint(5 * (4 // 7))#first bracket of floor division perform then multiplication performs\n# Q6 sol\nprint(2 * 5 ** 2)# first power performs then multiplication\n# Q7 sol\nprint(4 ** 3 * 2)#first power will be performs then multiplication\n",
      "execution_count": 8,
      "outputs": [
        {
          "output_type": "stream",
          "text": "-1\n1\n4\n2\n0\n50\n128\n",
          "name": "stdout"
        }
      ]
    },
    {
      "metadata": {
        "trusted": true
      },
      "cell_type": "code",
      "source": "",
      "execution_count": null,
      "outputs": []
    }
  ],
  "metadata": {
    "kernelspec": {
      "name": "python36",
      "display_name": "Python 3.6",
      "language": "python"
    },
    "language_info": {
      "mimetype": "text/x-python",
      "nbconvert_exporter": "python",
      "name": "python",
      "pygments_lexer": "ipython3",
      "version": "3.6.6",
      "file_extension": ".py",
      "codemirror_mode": {
        "version": 3,
        "name": "ipython"
      }
    }
  },
  "nbformat": 4,
  "nbformat_minor": 1
}