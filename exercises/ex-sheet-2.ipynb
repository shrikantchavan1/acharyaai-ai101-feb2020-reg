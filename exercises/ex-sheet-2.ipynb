{
  "cells": [
    {
      "metadata": {
        "deletable": false,
        "editable": false,
        "run_control": {
          "frozen": true
        }
      },
      "cell_type": "markdown",
      "source": "# [acharya.ai](https://acharya.ai)"
    },
    {
      "metadata": {
        "deletable": false,
        "editable": false,
        "run_control": {
          "frozen": true
        }
      },
      "cell_type": "markdown",
      "source": "<div style=\"text-align: center; font-size: 1.5em;\">\nॐ असतो मा सद्गमय <br><br>\nतमसो मा ज्योतिर्गमय <br><br>\nमृत्योर्माऽमृतं गमय <br><br>\nॐ शान्ति: शान्ति: शान्ति: ॥<br><br>\n— बृहदारण्यकोपनिषद् 1.3.28 <br><br>\n</div>\n__अर्थ__:— मुझे असत्य से सत्य की ओर ले चलो। मुझे अन्धकार से प्रकाश की ओर ले चलो। मुझे मृत्यु से अमरता की ओर ले चलो॥ <br><br>\n__Meaning__:— Om, Lead Us From Untruth To Truth, Lead Us From Darkness To Light. Lead Us From Death To Immortality, Om Let There Be Peace Peace Peace."
    },
    {
      "metadata": {
        "deletable": false,
        "editable": false,
        "run_control": {
          "frozen": true
        }
      },
      "cell_type": "markdown",
      "source": "## Exercises"
    },
    {
      "metadata": {
        "collapsed": true,
        "deletable": false,
        "editable": false,
        "run_control": {
          "frozen": true
        }
      },
      "cell_type": "markdown",
      "source": "__Exercise 2.1__ Consider that `s` is a `str` type variable that contains a string of length `r`. You want to extract a substring from the string `s`. If the position of the substring in `s` starts from the index location `m` and ends at the index location `n-1`, find the length of the substring."
    },
    {
      "metadata": {
        "deletable": false,
        "editable": false,
        "run_control": {
          "frozen": true
        }
      },
      "cell_type": "markdown",
      "source": "__Exercise 2.2__ A `str` type variable `s` contains a string of arbitrary length. Give the expression to return `r` characters starting at index `m`."
    },
    {
      "metadata": {
        "deletable": false,
        "editable": false,
        "slideshow": {
          "slide_type": "slide"
        },
        "run_control": {
          "frozen": true
        }
      },
      "cell_type": "markdown",
      "source": "__Exercise 2.3__ For a string `s = \"AI 101, Scientific Python Programming\"`. Perform the following operations in the given order:\n\n__1.__ Split the string `s` using built-in string method `split([sep])`. In `split([sep])` method, the optional `sep` is the character or a substring where a given string should be separated. If no `sep` is provided, the default is `\" \"` (space character). In a given string where `sep` is appearing `n` times, the returned list will contain $n+1$ items. E.g., `\"Hello World!\".split()` will return a list with two items, `[\"Hello\", \"World!\"]` because the default `\" \"` appeared one time. <br>. In a single line operation, split the string `s` in two constituents `code` and `course_name`. HINT: Use `\", \"` as `sep`. <br><br>\n__2.__ Using built-in string method `split([sep])`, split the string represented by variable `code` and save the returned items in new variables `code_name` and `code_num`. Then, using built-in string method `isdigit()`, check if the characters in `code_num` are all digits. <br><br>\n__3.__ In `join([list])` method, `list` is optional and contains strings that you want to join. Example:\n```python\n\" - \".join([\"I would rather have questions that can't be answered than answers that can't be questioned.\", \"Richard Feynman\"])\n```\nThe output is: \n```sh\n\"I would rather have questions that can't be answered than answers that can't be questioned. - Richard Feynman\"\n```\nJoin the string variables `code_name`, `code_num` and `course_name` and save the result in a new variable `course` using `join([list])` method such that the string in variable `course` and the original string variable `s` is same. <br />HINT: You may recreate the intermediate variable `code` by joining `code_name` and `code_num` using `\" \"`. Then in the second line you may create the variable `course` by joining `code` and `course_name` using `, `. Verify that variables `course` and `s` have same string."
    },
    {
      "metadata": {
        "deletable": false,
        "editable": false,
        "run_control": {
          "frozen": true
        }
      },
      "cell_type": "markdown",
      "source": "__Exercise 2.4__ `any()` and `all()` are built-in function. `any()` tests whether any of the items in an iterable object equivalent to `True`. Similarly, `all()` tests if all the items in a iterable are equivalent to `True`. Given a tuple `t = (5, 1, 0, 3, ())`, test if any of the items in it are equivalent to `True`. Also test if all items in it are equivalent to `True`."
    },
    {
      "metadata": {
        "deletable": false,
        "editable": false,
        "run_control": {
          "frozen": true
        }
      },
      "cell_type": "markdown",
      "source": "__Exercise 2.5__ In year 2011, Hyderabad city had 650 sq km area and 6,809,970 population. Assume that this record is captured in a tuple `(\"Hyderabad\", 650, 2011, 6809970)`. Using tuple packing create a tuple variable `city_record`. Now, how can you unpack (also referred as tuple unpacking) the tuple `city_record` in three variables `city`, `area`, `year_population`? Find the type of the variable `year_population`."
    },
    {
      "metadata": {
        "deletable": false,
        "editable": false,
        "run_control": {
          "frozen": true
        }
      },
      "cell_type": "markdown",
      "source": "__Exercise 2.6__ Run the code and give your reasoning, why the memory address of `x` in line 2 and line 4 are different but in line 6 and line 8 are same?\n```python\nx = (2, 4, 8) # line 1\nprint(id(x))  # line 2\nx *= 2        # line 3\nprint(id(x))  # line 4\n\nx = [2, 4, 8] # line 5\nprint(id(x))  # line 6\nx *= 2        # line 7\nprint(id(x))  # line 8\n```"
    }
  ],
  "metadata": {
    "kernelspec": {
      "name": "python36",
      "display_name": "Python 3.6",
      "language": "python"
    },
    "language_info": {
      "mimetype": "text/x-python",
      "nbconvert_exporter": "python",
      "name": "python",
      "pygments_lexer": "ipython3",
      "version": "3.6.6",
      "file_extension": ".py",
      "codemirror_mode": {
        "version": 3,
        "name": "ipython"
      }
    }
  },
  "nbformat": 4,
  "nbformat_minor": 2
}